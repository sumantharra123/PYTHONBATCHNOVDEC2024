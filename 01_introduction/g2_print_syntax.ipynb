{
 "cells": [
  {
   "cell_type": "code",
   "execution_count": 1,
   "metadata": {},
   "outputs": [
    {
     "name": "stdout",
     "output_type": "stream",
     "text": [
      "hello:world:123112\tworld\n"
     ]
    }
   ],
   "source": [
    "print(\"hello\", \"world\", 123112, end=\"\\t\", sep=\":\")\n",
    "print(\"world\")\n",
    "      "
   ]
  },
  {
   "cell_type": "markdown",
   "metadata": {},
   "source": [
    "## print function"
   ]
  },
  {
   "cell_type": "code",
   "execution_count": null,
   "metadata": {},
   "outputs": [
    {
     "name": "stdout",
     "output_type": "stream",
     "text": [
      "1:2:3\ta\n"
     ]
    }
   ],
   "source": [
    "print(1,2,3, sep=\":\", end=\"\\t\")\n",
    "print(\"a\",  sep=\"-\")\n"
   ]
  },
  {
   "cell_type": "code",
   "execution_count": 5,
   "metadata": {},
   "outputs": [
    {
     "name": "stdout",
     "output_type": "stream",
     "text": [
      "sumanth\n"
     ]
    }
   ],
   "source": [
    "# \\b - over writes the previous charaacter\n",
    "\n",
    "print(\"sumann\\bth\")"
   ]
  },
  {
   "cell_type": "code",
   "execution_count": 6,
   "metadata": {},
   "outputs": [
    {
     "name": "stdout",
     "output_type": "stream",
     "text": [
      "firssecond\n",
      "\bsecond\n",
      "senon\n"
     ]
    }
   ],
   "source": [
    "print(\"first\\bsecond\")\n",
    "print(\"\\bsecond\")\n",
    "print(\"senond\\b\")\n",
    "      "
   ]
  },
  {
   "cell_type": "code",
   "execution_count": 7,
   "metadata": {},
   "outputs": [
    {
     "data": {
      "text/plain": [
       "'\\x08sedinnj'"
      ]
     },
     "execution_count": 7,
     "metadata": {},
     "output_type": "execute_result"
    }
   ],
   "source": [
    "  \"\\bsedinnj\""
   ]
  },
  {
   "cell_type": "code",
   "execution_count": 8,
   "metadata": {},
   "outputs": [
    {
     "name": "stdout",
     "output_type": "stream",
     "text": [
      "simlo\n",
      "pokjndy\n",
      "qwerty4\n"
     ]
    }
   ],
   "source": [
    "# \\r  - overwrites complete existing line\n",
    "print(\"hello\\rsim\")\n",
    "print(\"rreowdy\\rpokjnd\")\n",
    "print(\"1234564\\rqwerty\")"
   ]
  },
  {
   "cell_type": "code",
   "execution_count": 11,
   "metadata": {},
   "outputs": [
    {
     "name": "stdout",
     "output_type": "stream",
     "text": [
      "₹\n",
      "Ǝ\n",
      "&\n"
     ]
    }
   ],
   "source": [
    "# unicode characters \\UXXX - unicode characters\n",
    "print('\\u20B9')\n",
    "print('\\u018e')\n",
    "print('\\046')\n"
   ]
  },
  {
   "cell_type": "code",
   "execution_count": 12,
   "metadata": {},
   "outputs": [
    {
     "name": "stdout",
     "output_type": "stream",
     "text": [
      "$\n",
      "ñ\n"
     ]
    }
   ],
   "source": [
    "# \\x ---  hexadecimal number\n",
    "print(\"\\x24\")\n",
    "print(\"\\xf1\")"
   ]
  },
  {
   "cell_type": "code",
   "execution_count": null,
   "metadata": {},
   "outputs": [],
   "source": []
  }
 ],
 "metadata": {
  "kernelspec": {
   "display_name": "Python 3",
   "language": "python",
   "name": "python3"
  },
  "language_info": {
   "codemirror_mode": {
    "name": "ipython",
    "version": 3
   },
   "file_extension": ".py",
   "mimetype": "text/x-python",
   "name": "python",
   "nbconvert_exporter": "python",
   "pygments_lexer": "ipython3",
   "version": "3.12.1"
  }
 },
 "nbformat": 4,
 "nbformat_minor": 2
}
